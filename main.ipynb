{
 "cells": [
  {
   "cell_type": "code",
   "execution_count": 1,
   "metadata": {},
   "outputs": [
    {
     "name": "stderr",
     "output_type": "stream",
     "text": [
      "/home/dungeon_master/.conda/envs/downloader/lib/python3.6/importlib/_bootstrap.py:219: RuntimeWarning: compiletime version 3.5 of module 'tensorflow.python.framework.fast_tensor_util' does not match runtime version 3.6\n",
      "  return f(*args, **kwds)\n"
     ]
    }
   ],
   "source": [
    "import numpy as np\n",
    "import tensorflow as tf\n",
    "from tensorflow.python.framework import ops\n",
    "import matplotlib.pyplot as plt\n",
    "\n",
    "%matplotlib inline"
   ]
  },
  {
   "cell_type": "code",
   "execution_count": 2,
   "metadata": {},
   "outputs": [],
   "source": [
    "from data_utils import *\n",
    "temp_data,train_X,train_Y,test_X,test_Y,per_id = load_dataset(\"datasets/criminal_train.csv\",40000)"
   ]
  },
  {
   "cell_type": "code",
   "execution_count": 3,
   "metadata": {},
   "outputs": [
    {
     "name": "stdout",
     "output_type": "stream",
     "text": [
      "[0 1 0 ..., 0 0 0]\n"
     ]
    },
    {
     "data": {
      "text/plain": [
       "(array([ 37209.,   2791.]), array([0, 1, 2]), <a list of 2 Patch objects>)"
      ]
     },
     "execution_count": 3,
     "metadata": {},
     "output_type": "execute_result"
    },
    {
     "data": {
      "image/png": "[encoded data removed]",
      "text/plain": [
       "<matplotlib.figure.Figure at 0x7f6bd979cd30>"
      ]
     },
     "metadata": {},
     "output_type": "display_data"
    }
   ],
   "source": [
    "x = np.squeeze(temp_data[:,71])\n",
    "x=x.astype(int)\n",
    "print(x)\n",
    "\n",
    "plt.hist(x,bins =[0,1,2],width = 0.5)\n"
   ]
  },
  {
   "cell_type": "code",
   "execution_count": 4,
   "metadata": {},
   "outputs": [
    {
     "name": "stdout",
     "output_type": "stream",
     "text": [
      "[0 1 0 ..., 1 1 1]\n"
     ]
    },
    {
     "data": {
      "text/plain": [
       "(array([ 37209.,  22328.]), array([0, 1, 2]), <a list of 2 Patch objects>)"
      ]
     },
     "execution_count": 4,
     "metadata": {},
     "output_type": "execute_result"
    },
    {
     "data": {
      "image/png": "[encoded data removed]",
      "text/plain": [
       "<matplotlib.figure.Figure at 0x7f6bd44a7a90>"
      ]
     },
     "metadata": {},
     "output_type": "display_data"
    }
   ],
   "source": [
    "temp = copy_data(temp_data)\n",
    "temp = copy_data(temp)\n",
    "temp = copy_data(temp)\n",
    "\n",
    "x = np.squeeze(temp[:,71])\n",
    "x = x.astype(int)\n",
    "print(x)\n",
    "plt.hist(x,bins = [0,1,2],width=0.5)"
   ]
  },
  {
   "cell_type": "code",
   "execution_count": 34,
   "metadata": {},
   "outputs": [
    {
     "name": "stdout",
     "output_type": "stream",
     "text": [
      "(59537, 72)\n",
      "[ 1.  1.  1. ...,  1.  0.  0.]\n"
     ]
    }
   ],
   "source": [
    "# random shuffling of data\n",
    "m = len(temp)\n",
    "\n",
    "permutation = list(np.random.permutation(m))\n",
    "temp = temp[permutation,:]\n",
    "print(temp.shape)\n",
    "train_X = temp[:,1:temp.shape[1]-1]\n",
    "train_Y = temp[:,temp.shape[1]-1]\n",
    "print(train_Y)"
   ]
  },
  {
   "cell_type": "code",
   "execution_count": 35,
   "metadata": {},
   "outputs": [
    {
     "name": "stdout",
     "output_type": "stream",
     "text": [
      "(1, 5718)\n"
     ]
    },
    {
     "ename": "ValueError",
     "evalue": "cannot reshape array of size 5718 into shape (1,1)",
     "output_type": "error",
     "traceback": [
      "\u001b[0;31m---------------------------------------------------------------------------\u001b[0m",
      "\u001b[0;31mValueError\u001b[0m                                Traceback (most recent call last)",
      "\u001b[0;32m<ipython-input-35-ace0b9b177c0>\u001b[0m in \u001b[0;36m<module>\u001b[0;34m()\u001b[0m\n\u001b[1;32m      4\u001b[0m \u001b[0mprint\u001b[0m\u001b[0;34m(\u001b[0m\u001b[0mtest_Y\u001b[0m\u001b[0;34m.\u001b[0m\u001b[0mshape\u001b[0m\u001b[0;34m)\u001b[0m\u001b[0;34m\u001b[0m\u001b[0m\n\u001b[1;32m      5\u001b[0m \u001b[0mtrain_Y\u001b[0m \u001b[0;34m=\u001b[0m \u001b[0;34m(\u001b[0m\u001b[0mtrain_Y\u001b[0m\u001b[0;34m.\u001b[0m\u001b[0mreshape\u001b[0m\u001b[0;34m(\u001b[0m\u001b[0mtrain_Y\u001b[0m\u001b[0;34m.\u001b[0m\u001b[0mshape\u001b[0m\u001b[0;34m[\u001b[0m\u001b[0;36m0\u001b[0m\u001b[0;34m]\u001b[0m\u001b[0;34m,\u001b[0m\u001b[0;36m1\u001b[0m\u001b[0;34m)\u001b[0m\u001b[0;34m)\u001b[0m\u001b[0;34m.\u001b[0m\u001b[0mT\u001b[0m\u001b[0;34m\u001b[0m\u001b[0m\n\u001b[0;32m----> 6\u001b[0;31m \u001b[0mtest_Y\u001b[0m \u001b[0;34m=\u001b[0m \u001b[0;34m(\u001b[0m\u001b[0mtest_Y\u001b[0m\u001b[0;34m.\u001b[0m\u001b[0mreshape\u001b[0m\u001b[0;34m(\u001b[0m\u001b[0mtest_Y\u001b[0m\u001b[0;34m.\u001b[0m\u001b[0mshape\u001b[0m\u001b[0;34m[\u001b[0m\u001b[0;36m0\u001b[0m\u001b[0;34m]\u001b[0m\u001b[0;34m,\u001b[0m\u001b[0;36m1\u001b[0m\u001b[0;34m)\u001b[0m\u001b[0;34m)\u001b[0m\u001b[0;34m.\u001b[0m\u001b[0mT\u001b[0m\u001b[0;34m\u001b[0m\u001b[0m\n\u001b[0m\u001b[1;32m      7\u001b[0m \u001b[0mprint\u001b[0m\u001b[0;34m(\u001b[0m\u001b[0mtest_Y\u001b[0m\u001b[0;34m.\u001b[0m\u001b[0mshape\u001b[0m\u001b[0;34m)\u001b[0m\u001b[0;34m\u001b[0m\u001b[0m\n\u001b[1;32m      8\u001b[0m \u001b[0mprint\u001b[0m\u001b[0;34m(\u001b[0m\u001b[0mtrain_X\u001b[0m\u001b[0;34m.\u001b[0m\u001b[0mshape\u001b[0m\u001b[0;34m)\u001b[0m\u001b[0;34m\u001b[0m\u001b[0m\n",
      "\u001b[0;31mValueError\u001b[0m: cannot reshape array of size 5718 into shape (1,1)"
     ]
    }
   ],
   "source": [
    "#arranging the data of one example vertically\n",
    "train_X = train_X.T\n",
    "test_X = test_X.T\n",
    "print(test_Y.shape)\n",
    "train_Y = (train_Y.reshape(train_Y.shape[0],1)).T\n",
    "test_Y = (test_Y.reshape(test_Y.shape[0],1)).T\n",
    "print(test_Y.shape)\n",
    "print(train_X.shape)"
   ]
  },
  {
   "cell_type": "code",
   "execution_count": 7,
   "metadata": {
    "collapsed": true
   },
   "outputs": [],
   "source": [
    "# number of training examples\n",
    "#normalize data\n",
    "def normalize(data,axis = 1):\n",
    "    #step 1: compute and substract mea from each feature\n",
    "    mean = np.mean(data,axis = axis)\n",
    "    mean =mean.reshape(mean.shape[0],1)\n",
    "    data = data - mean\n",
    "    \n",
    "    #step 2: compute variance of those features\n",
    "    data = data ** 2\n",
    "    variance = np.mean(data,axis = axis)\n",
    "    variance = variance.reshape(variance.shape[0],1)\n",
    "    data = data/variance\n",
    "    \n",
    "    return data,mean,variance\n",
    "\n",
    "\n",
    "def predict_normalize(data,mean,variance):\n",
    "    \n",
    "    data = data - mean\n",
    "    data = data/ variance\n",
    "    \n",
    "    return data"
   ]
  },
  {
   "cell_type": "code",
   "execution_count": 8,
   "metadata": {
    "collapsed": true
   },
   "outputs": [],
   "source": [
    "#train_X,mean,variance = normalize(train_X,axis = 1)\n",
    "#test_X = predict_normalize(test_X,mean,variance)\n",
    "#print(train_X.shape,mean.shape,variance.shape)"
   ]
  },
  {
   "cell_type": "code",
   "execution_count": 36,
   "metadata": {
    "collapsed": true
   },
   "outputs": [],
   "source": [
    "# we will be using three layers with units 25,12,6 and 1 output layer.\n",
    "def initialize_parameters():\n",
    "    \"\"\"\n",
    "    W1 = tf.get_variable(\"W1\", [25,70], initializer = tf.contrib.layers.xavier_initializer())\n",
    "    b1 = tf.get_variable(\"b1\", [25,1], initializer = tf.zeros_initializer())\n",
    "    W2 = tf.get_variable(\"W2\", [12,25], initializer = tf.contrib.layers.xavier_initializer())\n",
    "    b2 = tf.get_variable(\"b2\", [12,1], initializer = tf.zeros_initializer())\n",
    "    W3 = tf.get_variable(\"W3\", [6,12], initializer = tf.contrib.layers.xavier_initializer())\n",
    "    b3 = tf.get_variable(\"b3\", [6,1], initializer = tf.zeros_initializer())\n",
    "    W4 = tf.get_variable(\"W4\", [1,6], initializer = tf.contrib.layers.xavier_initializer())\n",
    "    b4 = tf.get_variable(\"b4\", [1,1], initializer = tf.zeros_initializer())\n",
    "    \"\"\"\n",
    "    \n",
    "    W1 = tf.get_variable(\"W1\", [25,70], initializer = tf.contrib.layers.xavier_initializer())\n",
    "    b1 = tf.get_variable(\"b1\", [25,1], initializer = tf.zeros_initializer())\n",
    "    W2 = tf.get_variable(\"W2\", [10,25], initializer = tf.contrib.layers.xavier_initializer())\n",
    "    b2 = tf.get_variable(\"b2\", [10,1], initializer = tf.zeros_initializer())\n",
    "    W3 = tf.get_variable(\"W3\", [1,10], initializer = tf.contrib.layers.xavier_initializer())\n",
    "    b3 = tf.get_variable(\"b3\", [1,1], initializer = tf.zeros_initializer())\n",
    "    \n",
    "    parameters = {\n",
    "        \"W1\": W1,\n",
    "        \"b1\": b1,\n",
    "        \"W2\": W2,\n",
    "        \"b2\": b2,\n",
    "        \"W3\": W3,\n",
    "        \"b3\": b3\n",
    "    }\n",
    "    \"\"\",\n",
    "        \"W4\": W4,\n",
    "        \"b4\": b4\n",
    "    }\"\"\"\n",
    "    \n",
    "    return parameters"
   ]
  },
  {
   "cell_type": "code",
   "execution_count": 37,
   "metadata": {},
   "outputs": [
    {
     "name": "stdout",
     "output_type": "stream",
     "text": [
      "W2 = <tf.Variable 'W2:0' shape=(10, 25) dtype=float32_ref>\n",
      "b2 = <tf.Variable 'b2:0' shape=(10, 1) dtype=float32_ref>\n",
      "W3 = <tf.Variable 'W3:0' shape=(1, 10) dtype=float32_ref>\n",
      "b3 = <tf.Variable 'b3:0' shape=(1, 1) dtype=float32_ref>\n"
     ]
    }
   ],
   "source": [
    "# test\n",
    "\n",
    "tf.reset_default_graph()\n",
    "with tf.Session() as sess:\n",
    "    parameters = initialize_parameters()\n",
    "    print(\"W2 = \" + str(parameters[\"W2\"]))\n",
    "    print(\"b2 = \" + str(parameters[\"b2\"]))\n",
    "    print(\"W3 = \" + str(parameters[\"W3\"]))\n",
    "    print(\"b3 = \" + str(parameters[\"b3\"]))"
   ]
  },
  {
   "cell_type": "code",
   "execution_count": 38,
   "metadata": {
    "collapsed": true
   },
   "outputs": [],
   "source": [
    "# forward prop \n",
    "def fwd_prop(X, parameters):\n",
    "    # parameters retrieval\n",
    "    W1 = parameters['W1']\n",
    "    b1 = parameters['b1']\n",
    "    W2 = parameters['W2']\n",
    "    b2 = parameters['b2']\n",
    "    W3 = parameters['W3']\n",
    "    b3 = parameters['b3']\n",
    "    \"\"\"W4 = parameters['W4']\n",
    "    b4 = parameters['b4']\"\"\"\n",
    "    \n",
    "    Z1 = tf.add(tf.matmul(W1,X),b1)\n",
    "    A1 = tf.nn.relu(Z1)\n",
    "    Z2 = tf.add(tf.matmul(W2,A1),b2)\n",
    "    A2 = tf.nn.relu(Z2)\n",
    "    Z3 = tf.add(tf.matmul(W3,A2),b3)\n",
    "    \"\"\"A3 = tf.nn.relu(Z3)\n",
    "    Z4 = tf.add(tf.matmul(W4,A3),b4)\"\"\"\n",
    "    \n",
    "    return Z3 #Z4 "
   ]
  },
  {
   "cell_type": "code",
   "execution_count": 39,
   "metadata": {},
   "outputs": [
    {
     "name": "stdout",
     "output_type": "stream",
     "text": [
      "Z4 = Tensor(\"Add_2:0\", shape=(1, ?), dtype=float32)\n"
     ]
    }
   ],
   "source": [
    "# test\n",
    "tf.reset_default_graph()\n",
    "\n",
    "with tf.Session() as sess:\n",
    "    X = tf.placeholder(tf.float32,shape=[70,None]) \n",
    "    Y = tf.placeholder(tf.float32, shape=[1,None])\n",
    "    parameters = initialize_parameters()\n",
    "    Z4 = fwd_prop(X, parameters)\n",
    "    print(\"Z4 = \" + str(Z4))"
   ]
  },
  {
   "cell_type": "code",
   "execution_count": 40,
   "metadata": {
    "collapsed": true
   },
   "outputs": [],
   "source": [
    "def compute_cost(Z4,Y):\n",
    "    logits = tf.transpose(Z4)\n",
    "    labels = tf.transpose(Y)\n",
    "    print(\"shapes\",logits.shape,labels.shape)\n",
    "    \n",
    "    cost = tf.reduce_mean(tf.nn.sigmoid_cross_entropy_with_logits(logits=logits,labels=labels))\n",
    "    \n",
    "    return cost"
   ]
  },
  {
   "cell_type": "code",
   "execution_count": 41,
   "metadata": {},
   "outputs": [
    {
     "name": "stdout",
     "output_type": "stream",
     "text": [
      "shapes (?, 1) (?, 1)\n",
      "Z4 = Tensor(\"Mean:0\", shape=(), dtype=float32)\n"
     ]
    }
   ],
   "source": [
    "# test\n",
    "tf.reset_default_graph()\n",
    "#.....................ERROR..........................\n",
    "with tf.Session() as sess:\n",
    "    X = tf.placeholder(tf.float32,shape=[70,None]) \n",
    "    Y = tf.placeholder(tf.float32, shape=[1,None])\n",
    "    parameters = initialize_parameters()\n",
    "    Z4 = fwd_prop(X, parameters)\n",
    "    cost = compute_cost(Z4,Y)\n",
    "    print(\"Z4 = \" + str(cost))"
   ]
  },
  {
   "cell_type": "code",
   "execution_count": 44,
   "metadata": {
    "collapsed": true
   },
   "outputs": [],
   "source": [
    "def model(X_train, Y_train, X_test, Y_test, learning_rate = 0.01,\n",
    "          num_epochs = 100, minibatch_size = 64, print_cost = True):\n",
    "    \n",
    "    ops.reset_default_graph()                         # to be able to rerun the model without overwriting tf variables\n",
    "    tf.set_random_seed(1)                             # to keep consistent results\n",
    "    seed = 3                                          # to keep consistent results\n",
    "    (n_x, m) = X_train.shape                          # (n_x: input size, m : number of examples in the train set)\n",
    "    n_y = Y_train.shape[0]                            # n_y : output size\n",
    "    costs = []                                        # To keep track of the cost\n",
    "    print(X_train.shape,Y_train.shape)\n",
    "    \n",
    "    X = tf.placeholder(tf.float32,[n_x,None])\n",
    "    Y = tf.placeholder(tf.float32,[n_y,None])\n",
    "    \n",
    "    print(X.shape,Y.shape)\n",
    "    \n",
    "    parameters = initialize_parameters()\n",
    "    \n",
    "    Z3 = fwd_prop(X,parameters)\n",
    "    \n",
    "    cost = compute_cost(Z3,Y)\n",
    "    \n",
    "    optimizer = tf.train.AdamOptimizer(learning_rate=learning_rate).minimize(cost)\n",
    "    \n",
    "    init = tf.global_variables_initializer()\n",
    "    \n",
    "    with tf.Session() as sess:\n",
    "        sess.run(init)\n",
    "        \n",
    "        for epoch in range(num_epochs):\n",
    "            \n",
    "            epoch_cost = 0\n",
    "            num_minibatches = int(m / minibatch_size)\n",
    "            seed += 1\n",
    "            \n",
    "            minibatches = random_mini_batches(X_train, Y_train, minibatch_size, seed)\n",
    "            \n",
    "            for minibatch in minibatches:\n",
    "                (minibatch_X, minibatch_Y) = minibatch\n",
    "                \n",
    "                _ , minibatch_cost = sess.run([optimizer, cost], feed_dict={X: minibatch_X, Y: minibatch_Y})\n",
    "                \n",
    "                epoch_cost += minibatch_cost / num_minibatches\n",
    "                \n",
    "            if print_cost == True and epoch % 1 == 0:\n",
    "                print (\"Cost after epoch %i: %f\" % (epoch, epoch_cost))\n",
    "            if print_cost == True and epoch % 5 == 0:\n",
    "                costs.append(epoch_cost)\n",
    "                \n",
    "        # plot the cost\n",
    "        plt.plot(np.squeeze(costs))\n",
    "        plt.ylabel('cost')\n",
    "        plt.xlabel('iterations (per tens)')\n",
    "        plt.title(\"Learning rate =\" + str(learning_rate))\n",
    "        plt.show()\n",
    "        \n",
    "        \n",
    "        \n",
    "        # lets save the parameters in a variable\n",
    "        parameters = sess.run(parameters)\n",
    "        print (\"Parameters have been trained!\")\n",
    "        # Calculate the correct predictions\n",
    "        temp = tf.cast(tf.greater(Z3,0),\"float\")\n",
    "        correct_prediction = tf.equal(temp,Y)\n",
    "        \n",
    "        # Calculate accuracy on the test set\n",
    "        accuracy = tf.reduce_mean(tf.cast(correct_prediction, \"float\"))\n",
    "        \n",
    "        print(\"Train Accuracy: \",sess.run(accuracy,feed_dict={X:X_train, Y: Y_train}))\n",
    "        print(\"Test Accuracy: \",sess.run(accuracy,feed_dict={X:X_test, Y: Y_test}))\n",
    "        \n",
    "        \n",
    "        return parameters"
   ]
  },
  {
   "cell_type": "code",
   "execution_count": 45,
   "metadata": {},
   "outputs": [
    {
     "name": "stdout",
     "output_type": "stream",
     "text": [
      "(70, 59537) (1, 59537)\n",
      "(70, ?) (1, ?)\n",
      "shapes (?, 1) (?, 1)\n",
      "Cost after epoch 0: 14.738606\n",
      "Cost after epoch 1: 0.776864\n",
      "Cost after epoch 2: 0.630892\n",
      "Cost after epoch 3: 0.482380\n",
      "Cost after epoch 4: 0.529649\n",
      "Cost after epoch 5: 0.662313\n",
      "Cost after epoch 6: 0.662290\n",
      "Cost after epoch 7: 0.662401\n",
      "Cost after epoch 8: 0.662449\n",
      "Cost after epoch 9: 0.662352\n",
      "Cost after epoch 10: 0.662343\n",
      "Cost after epoch 11: 0.662486\n",
      "Cost after epoch 12: 0.662426\n",
      "Cost after epoch 13: 0.662411\n",
      "Cost after epoch 14: 0.662479\n",
      "Cost after epoch 15: 0.662433\n",
      "Cost after epoch 16: 0.662441\n",
      "Cost after epoch 17: 0.662429\n",
      "Cost after epoch 18: 0.662421\n",
      "Cost after epoch 19: 0.662415\n",
      "Cost after epoch 20: 0.662376\n",
      "Cost after epoch 21: 0.662484\n",
      "Cost after epoch 22: 0.662431\n",
      "Cost after epoch 23: 0.662372\n",
      "Cost after epoch 24: 0.662362\n",
      "Cost after epoch 25: 0.662442\n",
      "Cost after epoch 26: 0.662477\n",
      "Cost after epoch 27: 0.662540\n",
      "Cost after epoch 28: 0.662461\n",
      "Cost after epoch 29: 0.662445\n",
      "Cost after epoch 30: 0.662499\n",
      "Cost after epoch 31: 0.662371\n",
      "Cost after epoch 32: 0.662380\n",
      "Cost after epoch 33: 0.662511\n",
      "Cost after epoch 34: 0.662375\n",
      "Cost after epoch 35: 0.662453\n",
      "Cost after epoch 36: 0.662393\n",
      "Cost after epoch 37: 0.662404\n",
      "Cost after epoch 38: 0.662386\n",
      "Cost after epoch 39: 0.662428\n",
      "Cost after epoch 40: 0.662409\n",
      "Cost after epoch 41: 0.662462\n",
      "Cost after epoch 42: 0.662536\n",
      "Cost after epoch 43: 0.662432\n",
      "Cost after epoch 44: 0.662448\n",
      "Cost after epoch 45: 0.662383\n",
      "Cost after epoch 46: 0.662438\n",
      "Cost after epoch 47: 0.662504\n",
      "Cost after epoch 48: 0.662311\n",
      "Cost after epoch 49: 0.662520\n",
      "Cost after epoch 50: 0.662437\n",
      "Cost after epoch 51: 0.662324\n",
      "Cost after epoch 52: 0.662505\n",
      "Cost after epoch 53: 0.662549\n",
      "Cost after epoch 54: 0.662386\n",
      "Cost after epoch 55: 0.662501\n",
      "Cost after epoch 56: 0.662431\n",
      "Cost after epoch 57: 0.662452\n",
      "Cost after epoch 58: 0.662452\n",
      "Cost after epoch 59: 0.662322\n",
      "Cost after epoch 60: 0.662405\n",
      "Cost after epoch 61: 0.662470\n",
      "Cost after epoch 62: 0.662447\n",
      "Cost after epoch 63: 0.662360\n",
      "Cost after epoch 64: 0.662461\n",
      "Cost after epoch 65: 0.662336\n",
      "Cost after epoch 66: 0.662496\n",
      "Cost after epoch 67: 0.662439\n",
      "Cost after epoch 68: 0.662404\n",
      "Cost after epoch 69: 0.662443\n",
      "Cost after epoch 70: 0.662450\n",
      "Cost after epoch 71: 0.662390\n",
      "Cost after epoch 72: 0.662349\n",
      "Cost after epoch 73: 0.662381\n",
      "Cost after epoch 74: 0.662338\n",
      "Cost after epoch 75: 0.662531\n",
      "Cost after epoch 76: 0.662386\n",
      "Cost after epoch 77: 0.662406\n",
      "Cost after epoch 78: 0.662376\n",
      "Cost after epoch 79: 0.662469\n",
      "Cost after epoch 80: 0.662515\n",
      "Cost after epoch 81: 0.662331\n",
      "Cost after epoch 82: 0.662516\n",
      "Cost after epoch 83: 0.662467\n",
      "Cost after epoch 84: 0.662380\n",
      "Cost after epoch 85: 0.662381\n",
      "Cost after epoch 86: 0.662432\n",
      "Cost after epoch 87: 0.662407\n",
      "Cost after epoch 88: 0.662412\n",
      "Cost after epoch 89: 0.662357\n",
      "Cost after epoch 90: 0.662479\n",
      "Cost after epoch 91: 0.662372\n",
      "Cost after epoch 92: 0.662448\n",
      "Cost after epoch 93: 0.662346\n",
      "Cost after epoch 94: 0.662420\n",
      "Cost after epoch 95: 0.662477\n",
      "Cost after epoch 96: 0.662382\n",
      "Cost after epoch 97: 0.662404\n",
      "Cost after epoch 98: 0.662420\n",
      "Cost after epoch 99: 0.662429\n"
     ]
    },
    {
     "data": {
      "image/png": "[encoded data removed]",
      "text/plain": [
       "<matplotlib.figure.Figure at 0x7f6bd682a518>"
      ]
     },
     "metadata": {},
     "output_type": "display_data"
    },
    {
     "name": "stdout",
     "output_type": "stream",
     "text": [
      "Parameters have been trained!\n",
      "Train Accuracy:  0.624973\n"
     ]
    },
    {
     "ename": "ValueError",
     "evalue": "Cannot feed value of shape (5718, 70) for Tensor 'Placeholder:0', which has shape '(70, ?)'",
     "output_type": "error",
     "traceback": [
      "\u001b[0;31m---------------------------------------------------------------------------\u001b[0m",
      "\u001b[0;31mValueError\u001b[0m                                Traceback (most recent call last)",
      "\u001b[0;32m<ipython-input-45-0166bc98e365>\u001b[0m in \u001b[0;36m<module>\u001b[0;34m()\u001b[0m\n\u001b[0;32m----> 1\u001b[0;31m \u001b[0mpara\u001b[0m \u001b[0;34m=\u001b[0m \u001b[0mmodel\u001b[0m\u001b[0;34m(\u001b[0m\u001b[0mtrain_X\u001b[0m\u001b[0;34m,\u001b[0m \u001b[0mtrain_Y\u001b[0m\u001b[0;34m,\u001b[0m\u001b[0mtest_X\u001b[0m\u001b[0;34m,\u001b[0m \u001b[0mtest_Y\u001b[0m\u001b[0;34m)\u001b[0m\u001b[0;34m\u001b[0m\u001b[0m\n\u001b[0m",
      "\u001b[0;32m<ipython-input-44-f947551ac324>\u001b[0m in \u001b[0;36mmodel\u001b[0;34m(X_train, Y_train, X_test, Y_test, learning_rate, num_epochs, minibatch_size, print_cost)\u001b[0m\n\u001b[1;32m     68\u001b[0m \u001b[0;34m\u001b[0m\u001b[0m\n\u001b[1;32m     69\u001b[0m         \u001b[0mprint\u001b[0m\u001b[0;34m(\u001b[0m\u001b[0;34m\"Train Accuracy: \"\u001b[0m\u001b[0;34m,\u001b[0m\u001b[0msess\u001b[0m\u001b[0;34m.\u001b[0m\u001b[0mrun\u001b[0m\u001b[0;34m(\u001b[0m\u001b[0maccuracy\u001b[0m\u001b[0;34m,\u001b[0m\u001b[0mfeed_dict\u001b[0m\u001b[0;34m=\u001b[0m\u001b[0;34m{\u001b[0m\u001b[0mX\u001b[0m\u001b[0;34m:\u001b[0m\u001b[0mX_train\u001b[0m\u001b[0;34m,\u001b[0m \u001b[0mY\u001b[0m\u001b[0;34m:\u001b[0m \u001b[0mY_train\u001b[0m\u001b[0;34m}\u001b[0m\u001b[0;34m)\u001b[0m\u001b[0;34m)\u001b[0m\u001b[0;34m\u001b[0m\u001b[0m\n\u001b[0;32m---> 70\u001b[0;31m         \u001b[0mprint\u001b[0m\u001b[0;34m(\u001b[0m\u001b[0;34m\"Test Accuracy: \"\u001b[0m\u001b[0;34m,\u001b[0m\u001b[0msess\u001b[0m\u001b[0;34m.\u001b[0m\u001b[0mrun\u001b[0m\u001b[0;34m(\u001b[0m\u001b[0maccuracy\u001b[0m\u001b[0;34m,\u001b[0m\u001b[0mfeed_dict\u001b[0m\u001b[0;34m=\u001b[0m\u001b[0;34m{\u001b[0m\u001b[0mX\u001b[0m\u001b[0;34m:\u001b[0m\u001b[0mX_test\u001b[0m\u001b[0;34m,\u001b[0m \u001b[0mY\u001b[0m\u001b[0;34m:\u001b[0m \u001b[0mY_test\u001b[0m\u001b[0;34m}\u001b[0m\u001b[0;34m)\u001b[0m\u001b[0;34m)\u001b[0m\u001b[0;34m\u001b[0m\u001b[0m\n\u001b[0m\u001b[1;32m     71\u001b[0m \u001b[0;34m\u001b[0m\u001b[0m\n\u001b[1;32m     72\u001b[0m \u001b[0;34m\u001b[0m\u001b[0m\n",
      "\u001b[0;32m~/.conda/envs/downloader/lib/python3.6/site-packages/tensorflow/python/client/session.py\u001b[0m in \u001b[0;36mrun\u001b[0;34m(self, fetches, feed_dict, options, run_metadata)\u001b[0m\n\u001b[1;32m    887\u001b[0m     \u001b[0;32mtry\u001b[0m\u001b[0;34m:\u001b[0m\u001b[0;34m\u001b[0m\u001b[0m\n\u001b[1;32m    888\u001b[0m       result = self._run(None, fetches, feed_dict, options_ptr,\n\u001b[0;32m--> 889\u001b[0;31m                          run_metadata_ptr)\n\u001b[0m\u001b[1;32m    890\u001b[0m       \u001b[0;32mif\u001b[0m \u001b[0mrun_metadata\u001b[0m\u001b[0;34m:\u001b[0m\u001b[0;34m\u001b[0m\u001b[0m\n\u001b[1;32m    891\u001b[0m         \u001b[0mproto_data\u001b[0m \u001b[0;34m=\u001b[0m \u001b[0mtf_session\u001b[0m\u001b[0;34m.\u001b[0m\u001b[0mTF_GetBuffer\u001b[0m\u001b[0;34m(\u001b[0m\u001b[0mrun_metadata_ptr\u001b[0m\u001b[0;34m)\u001b[0m\u001b[0;34m\u001b[0m\u001b[0m\n",
      "\u001b[0;32m~/.conda/envs/downloader/lib/python3.6/site-packages/tensorflow/python/client/session.py\u001b[0m in \u001b[0;36m_run\u001b[0;34m(self, handle, fetches, feed_dict, options, run_metadata)\u001b[0m\n\u001b[1;32m   1094\u001b[0m                 \u001b[0;34m'Cannot feed value of shape %r for Tensor %r, '\u001b[0m\u001b[0;34m\u001b[0m\u001b[0m\n\u001b[1;32m   1095\u001b[0m                 \u001b[0;34m'which has shape %r'\u001b[0m\u001b[0;34m\u001b[0m\u001b[0m\n\u001b[0;32m-> 1096\u001b[0;31m                 % (np_val.shape, subfeed_t.name, str(subfeed_t.get_shape())))\n\u001b[0m\u001b[1;32m   1097\u001b[0m           \u001b[0;32mif\u001b[0m \u001b[0;32mnot\u001b[0m \u001b[0mself\u001b[0m\u001b[0;34m.\u001b[0m\u001b[0mgraph\u001b[0m\u001b[0;34m.\u001b[0m\u001b[0mis_feedable\u001b[0m\u001b[0;34m(\u001b[0m\u001b[0msubfeed_t\u001b[0m\u001b[0;34m)\u001b[0m\u001b[0;34m:\u001b[0m\u001b[0;34m\u001b[0m\u001b[0m\n\u001b[1;32m   1098\u001b[0m             \u001b[0;32mraise\u001b[0m \u001b[0mValueError\u001b[0m\u001b[0;34m(\u001b[0m\u001b[0;34m'Tensor %s may not be fed.'\u001b[0m \u001b[0;34m%\u001b[0m \u001b[0msubfeed_t\u001b[0m\u001b[0;34m)\u001b[0m\u001b[0;34m\u001b[0m\u001b[0m\n",
      "\u001b[0;31mValueError\u001b[0m: Cannot feed value of shape (5718, 70) for Tensor 'Placeholder:0', which has shape '(70, ?)'"
     ]
    }
   ],
   "source": [
    "para = model(train_X, train_Y,test_X, test_Y)"
   ]
  },
  {
   "cell_type": "code",
   "execution_count": null,
   "metadata": {
    "collapsed": true
   },
   "outputs": [],
   "source": []
  },
  {
   "cell_type": "markdown",
   "metadata": {},
   "source": [
    "##predictions for the output"
   ]
  },
  {
   "cell_type": "code",
   "execution_count": 17,
   "metadata": {
    "collapsed": true
   },
   "outputs": [],
   "source": [
    "def predict(X,parameters):\n",
    "    \n",
    "    W1 = tf.convert_to_tensor(parameters[\"W1\"])\n",
    "    b1 = tf.convert_to_tensor(parameters[\"b1\"])\n",
    "    W2 = tf.convert_to_tensor(parameters[\"W2\"])\n",
    "    b2 = tf.convert_to_tensor(parameters[\"b2\"])\n",
    "    W3 = tf.convert_to_tensor(parameters[\"W3\"])\n",
    "    b3 = tf.convert_to_tensor(parameters[\"b3\"])\n",
    "    \n",
    "    params = {\"W1\": W1,\n",
    "              \"b1\": b1,\n",
    "              \"W2\": W2,\n",
    "              \"b2\": b2,\n",
    "              \"W3\": W3,\n",
    "              \"b3\": b3}\n",
    "    \n",
    "    x = tf.placeholder(\"float\", [70, None])\n",
    "    z3 = predict_fwd_prop(x, params)\n",
    "    temp = tf.cast(tf.greater(z3,0),\"float\")\n",
    "    \n",
    "    sess = tf.Session()\n",
    "    prediction = sess.run(temp, feed_dict = {x: X})\n",
    "        \n",
    "    return prediction\n",
    "\n",
    "def predict_fwd_prop(X,parameters):\n",
    "    #dimensions of test data is input_units X test_eg's\n",
    "    # decode parameters\n",
    "    W1 = parameters[\"W1\"]\n",
    "    b1 = parameters[\"b1\"]\n",
    "    W2 = parameters[\"W2\"]\n",
    "    b2 = parameters[\"b2\"]\n",
    "    W3 = parameters[\"W3\"]\n",
    "    b3 = parameters[\"b3\"]\n",
    "    \n",
    "    print(W1.shape,X.shape)\n",
    "    print(type(W1),type(X))\n",
    "    Z1 = tf.add(tf.matmul(W1,X),b1)\n",
    "    A1 = tf.nn.relu(Z1)\n",
    "    Z2 = tf.add(tf.matmul(W2,A1),b2)\n",
    "    A2 = tf.nn.relu(Z2)\n",
    "    Z3 = tf.add(tf.matmul(W3,A2),b3)\n",
    "    \n",
    "    return Z3\n",
    "\n",
    "def predict_normalize(data,mean,variance):\n",
    "    #print(data[1:10,1:10])\n",
    "    data = data - mean\n",
    "    #print(data[1:10,1:10])\n",
    "    data = data/ variance\n",
    "    #print(data[1:10,1:10])\n",
    "    return data"
   ]
  },
  {
   "cell_type": "code",
   "execution_count": 18,
   "metadata": {
    "collapsed": true
   },
   "outputs": [],
   "source": [
    "# load data for submission\n",
    "data = np.genfromtxt(\"datasets/criminal_test.csv\",delimiter=',')"
   ]
  },
  {
   "cell_type": "code",
   "execution_count": 19,
   "metadata": {},
   "outputs": [
    {
     "name": "stdout",
     "output_type": "stream",
     "text": [
      "(11431, 71)\n",
      "(11430, 1)\n",
      "(70, 11430)\n"
     ]
    }
   ],
   "source": [
    "print(data.shape)\n",
    "per_id = data[1:,0]\n",
    "per_id = per_id.reshape(per_id.shape[0],1)\n",
    "print(per_id.shape)\n",
    "data_X = data[1:,1:]\n",
    "data_X = data_X.T\n",
    "print(data_X.shape)"
   ]
  },
  {
   "cell_type": "code",
   "execution_count": 20,
   "metadata": {},
   "outputs": [
    {
     "name": "stdout",
     "output_type": "stream",
     "text": [
      "(70, 11430)\n",
      "(25, 70) (70, ?)\n",
      "<class 'tensorflow.python.framework.ops.Tensor'> <class 'tensorflow.python.framework.ops.Tensor'>\n",
      "[ 23535779.]\n"
     ]
    }
   ],
   "source": [
    "#data_X = predict_normalize(data_X,mean,variance)\n",
    "print(data_X.shape)\n",
    "ans = predict(data_X,para)\n",
    "print(per_id[10])"
   ]
  },
  {
   "cell_type": "code",
   "execution_count": 21,
   "metadata": {},
   "outputs": [
    {
     "name": "stdout",
     "output_type": "stream",
     "text": [
      "[ 66583679.         0.]\n"
     ]
    }
   ],
   "source": [
    "count=0\n",
    "z=[]\n",
    "#z.append([\"PERID\",\"Criminal\"])\n",
    "for i in range(0,11430):\n",
    "    z.append([per_id[i].squeeze(),ans[0][i]])\n",
    "\n",
    "z=np.array(z)\n",
    "print(z[0])"
   ]
  },
  {
   "cell_type": "code",
   "execution_count": 22,
   "metadata": {},
   "outputs": [
    {
     "name": "stdout",
     "output_type": "stream",
     "text": [
      "<class 'numpy.ndarray'>\n"
     ]
    }
   ],
   "source": [
    "import pandas as pd\n",
    "columns=['PERID','Criminal']\n",
    "index=np.arange(1, 11431)\n",
    "my_df = pd.DataFrame(z,index=index,columns=columns)\n",
    "my_df = my_df.astype(int)\n",
    "\n",
    "my_df.to_csv('out.csv', index=False, header=True)\n",
    "print(type(z))"
   ]
  },
  {
   "cell_type": "code",
   "execution_count": 23,
   "metadata": {},
   "outputs": [
    {
     "name": "stdout",
     "output_type": "stream",
     "text": [
      "          PERID  Criminal\n",
      "1      66583679         0\n",
      "2      35494679         0\n",
      "3      79424679         0\n",
      "4      11744679         0\n",
      "5      31554679         0\n",
      "6      83164679         0\n",
      "7      58474679         0\n",
      "8      40695779         0\n",
      "9      39315779         0\n",
      "10     58415779         0\n",
      "11     23535779         0\n",
      "12     67275779         0\n",
      "13     93485779         0\n",
      "14     29546779         0\n",
      "15     97556779         0\n",
      "16     37797779         0\n",
      "17     36607779         0\n",
      "18     61727779         0\n",
      "19     20827779         0\n",
      "20     52437779         0\n",
      "21     87267779         0\n",
      "22     33287779         0\n",
      "23     30398779         0\n",
      "24     98598779         0\n",
      "25     41818779         0\n",
      "26     69638779         0\n",
      "27     25748779         0\n",
      "28     75368779         0\n",
      "29     99968779         0\n",
      "30     91578779         0\n",
      "...         ...       ...\n",
      "11401  43750730         0\n",
      "11402  35360730         0\n",
      "11403  51380730         0\n",
      "11404  50480730         0\n",
      "11405  71901730         0\n",
      "11406  96021730         0\n",
      "11407  71331730         0\n",
      "11408  66541730         0\n",
      "11409  29861730         0\n",
      "11410  95071730         0\n",
      "11411  61281730         0\n",
      "11412  57202730         0\n",
      "11413  45402730         0\n",
      "11414  45022730         0\n",
      "11415  99432730         0\n",
      "11416  26732730         0\n",
      "11417  85832730         0\n",
      "11418  45782730         0\n",
      "11419  26493730         0\n",
      "11420  54693730         0\n",
      "11421  97103730         0\n",
      "11422  99713730         0\n",
      "11423  74543730         0\n",
      "11424  57863730         0\n",
      "11425  97294730         0\n",
      "11426  31894730         0\n",
      "11427  98524730         0\n",
      "11428  80134730         0\n",
      "11429  65323398         0\n",
      "11430  90906563         0\n",
      "\n",
      "[11430 rows x 2 columns]\n"
     ]
    }
   ],
   "source": [
    "print(my_df)"
   ]
  }
 ],
 "metadata": {
  "kernelspec": {
   "display_name": "Python 3",
   "language": "python",
   "name": "python3"
  },
  "language_info": {
   "codemirror_mode": {
    "name": "ipython",
    "version": 3
   },
   "file_extension": ".py",
   "mimetype": "text/x-python",
   "name": "python",
   "nbconvert_exporter": "python",
   "pygments_lexer": "ipython3",
   "version": "3.6.3"
  }
 },
 "nbformat": 4,
 "nbformat_minor": 2
}

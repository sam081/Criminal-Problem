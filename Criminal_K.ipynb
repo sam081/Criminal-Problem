{
 "cells": [
  {
   "cell_type": "code",
   "execution_count": 1,
   "metadata": {},
   "outputs": [
    {
     "name": "stderr",
     "output_type": "stream",
     "text": [
      "/home/dungeon_master/.conda/envs/downloader/lib/python3.6/importlib/_bootstrap.py:219: RuntimeWarning: compiletime version 3.5 of module 'tensorflow.python.framework.fast_tensor_util' does not match runtime version 3.6\n",
      "  return f(*args, **kwds)\n",
      "Using TensorFlow backend.\n"
     ]
    }
   ],
   "source": [
    "import tensorflow as tf\n",
    "import keras as K\n",
    "import keras.backend as kb\n",
    "import numpy as np\n",
    "import matplotlib.pyplot as plt\n",
    "%matplotlib inline\n",
    "\n",
    "import pandas as pd\n",
    "from sklearn.model_selection import train_test_split\n",
    "from sklearn.utils import class_weight\n",
    "from imblearn.over_sampling import SMOTE"
   ]
  },
  {
   "cell_type": "code",
   "execution_count": 2,
   "metadata": {
    "collapsed": true
   },
   "outputs": [],
   "source": [
    "df = pd.read_csv(\"datasets/criminal_train.csv\")\n",
    "\n",
    "#split in test and train\n",
    "train_X,test_X,train_Y,test_Y = train_test_split(df.drop(['Criminal'],axis=1),\n",
    "                                                 df['Criminal'], test_size = 0.15)"
   ]
  },
  {
   "cell_type": "code",
   "execution_count": null,
   "metadata": {
    "collapsed": true
   },
   "outputs": [],
   "source": []
  },
  {
   "cell_type": "code",
   "execution_count": 3,
   "metadata": {},
   "outputs": [
    {
     "data": {
      "text/plain": [
       "Text(0.5,0,'0    6337\\n1     521\\nName: Criminal, dtype: int64')"
      ]
     },
     "execution_count": 3,
     "metadata": {},
     "output_type": "execute_result"
    },
    {
     "data": {
      "image/png": "[encoded data removed]",
      "text/plain": [
       "<matplotlib.figure.Figure at 0x7f73ad1e82e8>"
      ]
     },
     "metadata": {},
     "output_type": "display_data"
    }
   ],
   "source": [
    "#before oversampling\n",
    "fig, axes = plt.subplots(nrows=1, ncols=3, figsize=(12, 4))\n",
    "\n",
    "df['Criminal'].value_counts().plot(ax=axes[0],kind='bar', title='Criminal').set_xlabel(df['Criminal'].value_counts())\n",
    "train_Y[:].value_counts().plot(ax=axes[1],kind='bar',title ='train').set_xlabel(train_Y[:].value_counts())\n",
    "test_Y[:].value_counts().plot(ax=axes[2],kind='bar',title ='test').set_xlabel(test_Y[:].value_counts())\n",
    "\n"
   ]
  },
  {
   "cell_type": "code",
   "execution_count": 4,
   "metadata": {
    "collapsed": true
   },
   "outputs": [],
   "source": [
    "#create validation set\n",
    "#train_Y = pd.DataFrame(train_Y.values,columns=['Criminal'])\n",
    "\n",
    "train_X,val_X,train_Y,val_Y = train_test_split(train_X,train_Y, test_size = 0.15)\n"
   ]
  },
  {
   "cell_type": "code",
   "execution_count": 5,
   "metadata": {},
   "outputs": [
    {
     "data": {
      "text/plain": [
       "Text(0.5,0,'0    5430\\n1     399\\nName: Criminal, dtype: int64')"
      ]
     },
     "execution_count": 5,
     "metadata": {},
     "output_type": "execute_result"
    },
    {
     "data": {
      "image/png": "[encoded data removed]",
      "text/plain": [
       "<matplotlib.figure.Figure at 0x7f73ad1cbeb8>"
      ]
     },
     "metadata": {},
     "output_type": "display_data"
    }
   ],
   "source": [
    "fig, axes = plt.subplots(nrows=1, ncols=2, figsize=(8, 4))\n",
    "train_Y[:].value_counts().plot(ax=axes[1],kind='bar',title ='train').set_xlabel(train_Y[:].value_counts())\n",
    "val_Y[:].value_counts().plot(ax=axes[0],kind='bar',title ='val').set_xlabel(val_Y[:].value_counts())"
   ]
  },
  {
   "cell_type": "code",
   "execution_count": 6,
   "metadata": {},
   "outputs": [
    {
     "name": "stdout",
     "output_type": "stream",
     "text": [
      "(33031, 71) (33031,) (5829, 71) (5829,)\n",
      "(33031, 1)\n"
     ]
    },
    {
     "name": "stderr",
     "output_type": "stream",
     "text": [
      "/home/dungeon_master/.conda/envs/downloader/lib/python3.6/site-packages/ipykernel_launcher.py:2: FutureWarning: reshape is deprecated and will raise in a subsequent release. Please use .values.reshape(...) instead\n",
      "  \n"
     ]
    }
   ],
   "source": [
    "print(train_X.shape,train_Y.shape,val_X.shape,val_Y.shape)\n",
    "train_Y = train_Y.reshape(-1,1)\n",
    "print(train_Y.shape)"
   ]
  },
  {
   "cell_type": "code",
   "execution_count": 7,
   "metadata": {},
   "outputs": [
    {
     "name": "stderr",
     "output_type": "stream",
     "text": [
      "/home/dungeon_master/.conda/envs/downloader/lib/python3.6/site-packages/sklearn/utils/validation.py:578: DataConversionWarning: A column-vector y was passed when a 1d array was expected. Please change the shape of y to (n_samples, ), for example using ravel().\n",
      "  y = column_or_1d(y, warn=True)\n",
      "/home/dungeon_master/.conda/envs/downloader/lib/python3.6/site-packages/sklearn/utils/deprecation.py:77: DeprecationWarning: Function _ratio_float is deprecated; Use a float for 'ratio' is deprecated from version 0.2. The support will be removed in 0.4. Use a dict, str, or a callable instead.\n",
      "  warnings.warn(msg, category=DeprecationWarning)\n"
     ]
    }
   ],
   "source": [
    "#oversampling\n",
    "sm = SMOTE(ratio = 1)\n",
    "train_X,train_Y = sm.fit_sample(train_X,train_Y)"
   ]
  },
  {
   "cell_type": "code",
   "execution_count": 8,
   "metadata": {},
   "outputs": [
    {
     "name": "stdout",
     "output_type": "stream",
     "text": [
      "(61552, 71) (61552,)\n",
      "[[    0 30776]\n",
      " [    1 30776]]\n"
     ]
    }
   ],
   "source": [
    "bins,counts = np.unique(train_Y,return_counts=True)\n",
    "print(train_X.shape,train_Y.shape)\n",
    "print(np.asarray((bins, counts)).T)"
   ]
  },
  {
   "cell_type": "code",
   "execution_count": 9,
   "metadata": {},
   "outputs": [
    {
     "name": "stdout",
     "output_type": "stream",
     "text": [
      "(61552, 70)\n"
     ]
    }
   ],
   "source": [
    "train_X = train_X[:,1:]\n",
    "train_Y = train_Y.reshape(-1,1)\n",
    "print(train_X.shape)"
   ]
  },
  {
   "cell_type": "code",
   "execution_count": 10,
   "metadata": {
    "collapsed": true
   },
   "outputs": [],
   "source": [
    "def finalmodel(input_shape):\n",
    "    \n",
    "    X_input = K.layers.Input(input_shape)\n",
    "    X = X_input\n",
    "    \n",
    "    X = K.layers.Dropout(0.2)(X)\n",
    "    X = K.layers.Dense(units = 25, activation = 'relu', kernel_initializer = 'random_uniform', bias_initializer ='zeros')(X)\n",
    "                          #,kernel_regularizer = K.regularizers.l2(0.01))(X)\n",
    "    X = K.layers.Dropout(0.2)(X)\n",
    "    \n",
    "    X = K.layers.Dense(units = 10, activation = 'relu', kernel_initializer = 'random_uniform', bias_initializer ='zeros')(X)\n",
    "                         # ,kernel_regularizer = K.regularizers.l2(0.01))(X)\n",
    "    X = K.layers.Dropout(0.2)(X)\n",
    "    \n",
    "    X = K.layers.Dense(units = 1, activation = 'sigmoid',kernel_initializer = 'random_uniform', bias_initializer = 'zeros')(X)\n",
    "                         # ,kernel_regularizer = K.regularizers.l2(0.01))(X)\n",
    "    \n",
    "    model = K.models.Model(inputs = X_input, outputs = X, name = \"finalmodel\");\n",
    "    \n",
    "    return model"
   ]
  },
  {
   "cell_type": "code",
   "execution_count": 11,
   "metadata": {
    "collapsed": true
   },
   "outputs": [],
   "source": [
    "def matthews_correlation(y_true, y_pred):\n",
    "    y_pred_pos = kb.round(kb.clip(y_pred, 0, 1))\n",
    "    y_pred_neg = 1 - y_pred_pos\n",
    "\n",
    "    y_pos = kb.round(kb.clip(y_true, 0, 1))\n",
    "    y_neg = 1 - y_pos\n",
    "\n",
    "    tp = kb.sum(y_pos * y_pred_pos)\n",
    "    tn = kb.sum(y_neg * y_pred_neg)\n",
    "\n",
    "    fp = kb.sum(y_neg * y_pred_pos)\n",
    "    fn = kb.sum(y_pos * y_pred_neg)\n",
    "\n",
    "    numerator = (tp * tn - fp * fn)\n",
    "    denominator = kb.sqrt((tp + fp) * (tp + fn) * (tn + fp) * (tn + fn))\n",
    "\n",
    "    return numerator / (denominator + kb.epsilon())"
   ]
  },
  {
   "cell_type": "code",
   "execution_count": 12,
   "metadata": {
    "collapsed": true
   },
   "outputs": [],
   "source": [
    "#print(np.unique(train_Y).shape)\n",
    "#class_weight = class_weight.compute_class_weight('balanced', np.unique(train_Y), train_Y.reshape(train_Y.shape[0]))\n",
    "#print(class_weight)"
   ]
  },
  {
   "cell_type": "code",
   "execution_count": 13,
   "metadata": {
    "collapsed": true
   },
   "outputs": [],
   "source": [
    "final_model = finalmodel((70,))\n",
    "\n",
    "adam = K.optimizers.adam(lr=0.0001, beta_1=0.9, beta_2=0.999, epsilon=1e-8)\n",
    "#sgd  = K.optimizers.sgd(lr=0.0001,decay=1e-6)\n",
    "final_model.compile(optimizer='adam',loss= K.losses.mean_squared_logarithmic_error,metrics=[matthews_correlation])"
   ]
  },
  {
   "cell_type": "code",
   "execution_count": 14,
   "metadata": {},
   "outputs": [
    {
     "name": "stdout",
     "output_type": "stream",
     "text": [
      "[0 1]\n",
      "Epoch 1/240\n",
      "61552/61552 [==============================] - 1s 9us/step - loss: 0.8928 - matthews_correlation: 0.0027\n",
      "Epoch 2/240\n",
      "61552/61552 [==============================] - 0s 8us/step - loss: 0.6934 - matthews_correlation: 0.0151\n",
      "Epoch 3/240\n",
      "61552/61552 [==============================] - 0s 7us/step - loss: 0.6932 - matthews_correlation: 0.0127\n",
      "Epoch 4/240\n",
      "61552/61552 [==============================] - 0s 7us/step - loss: 0.6932 - matthews_correlation: 0.0171\n",
      "Epoch 5/240\n",
      "61552/61552 [==============================] - 0s 6us/step - loss: 0.6933 - matthews_correlation: 0.0163\n",
      "Epoch 6/240\n",
      "61552/61552 [==============================] - 1s 12us/step - loss: 0.6930 - matthews_correlation: 0.0272\n",
      "Epoch 7/240\n",
      "61552/61552 [==============================] - 1s 8us/step - loss: 0.6930 - matthews_correlation: 0.0282\n",
      "Epoch 8/240\n",
      "61552/61552 [==============================] - 0s 6us/step - loss: 0.6925 - matthews_correlation: 0.0592\n",
      "Epoch 9/240\n",
      "61552/61552 [==============================] - 0s 6us/step - loss: 0.6916 - matthews_correlation: 0.0637\n",
      "Epoch 10/240\n",
      "61552/61552 [==============================] - 0s 6us/step - loss: 0.6848 - matthews_correlation: 0.1013\n",
      "Epoch 11/240\n",
      "61552/61552 [==============================] - 0s 7us/step - loss: 0.6547 - matthews_correlation: 0.1493\n",
      "Epoch 12/240\n",
      "61552/61552 [==============================] - 0s 8us/step - loss: 0.6615 - matthews_correlation: 0.1821\n",
      "Epoch 13/240\n",
      "61552/61552 [==============================] - 0s 7us/step - loss: 0.6199 - matthews_correlation: 0.2299\n",
      "Epoch 14/240\n",
      "61552/61552 [==============================] - 0s 6us/step - loss: 0.5994 - matthews_correlation: 0.2536\n",
      "Epoch 15/240\n",
      "61552/61552 [==============================] - 0s 7us/step - loss: 0.5896 - matthews_correlation: 0.3292\n",
      "Epoch 16/240\n",
      "61552/61552 [==============================] - 0s 8us/step - loss: 0.5884 - matthews_correlation: 0.3652\n",
      "Epoch 17/240\n",
      "61552/61552 [==============================] - 0s 7us/step - loss: 0.5774 - matthews_correlation: 0.3745\n",
      "Epoch 18/240\n",
      "61552/61552 [==============================] - 1s 10us/step - loss: 0.5952 - matthews_correlation: 0.3512 0s - loss: 0.5906 - matthe\n",
      "Epoch 19/240\n",
      "61552/61552 [==============================] - 1s 10us/step - loss: 0.5716 - matthews_correlation: 0.3943\n",
      "Epoch 20/240\n",
      "61552/61552 [==============================] - 1s 9us/step - loss: 0.5642 - matthews_correlation: 0.4069\n",
      "Epoch 21/240\n",
      "61552/61552 [==============================] - 0s 8us/step - loss: 0.5721 - matthews_correlation: 0.3922\n",
      "Epoch 22/240\n",
      "61552/61552 [==============================] - 1s 9us/step - loss: 0.5560 - matthews_correlation: 0.4176\n",
      "Epoch 23/240\n",
      "61552/61552 [==============================] - 1s 10us/step - loss: 0.5552 - matthews_correlation: 0.4185\n",
      "Epoch 24/240\n",
      "61552/61552 [==============================] - 0s 7us/step - loss: 0.5573 - matthews_correlation: 0.3939\n",
      "Epoch 25/240\n",
      "61552/61552 [==============================] - 0s 7us/step - loss: 0.5536 - matthews_correlation: 0.4071\n",
      "Epoch 26/240\n",
      "61552/61552 [==============================] - 1s 9us/step - loss: 0.5488 - matthews_correlation: 0.4133\n",
      "Epoch 27/240\n",
      "61552/61552 [==============================] - 0s 7us/step - loss: 0.5443 - matthews_correlation: 0.4216\n",
      "Epoch 28/240\n",
      "61552/61552 [==============================] - 0s 6us/step - loss: 0.5355 - matthews_correlation: 0.4425\n",
      "Epoch 29/240\n",
      "61552/61552 [==============================] - 0s 8us/step - loss: 0.5311 - matthews_correlation: 0.4475\n",
      "Epoch 30/240\n",
      "61552/61552 [==============================] - 0s 7us/step - loss: 0.5284 - matthews_correlation: 0.4474\n",
      "Epoch 31/240\n",
      "61552/61552 [==============================] - 0s 7us/step - loss: 0.5290 - matthews_correlation: 0.4504\n",
      "Epoch 32/240\n",
      "61552/61552 [==============================] - 0s 7us/step - loss: 0.5213 - matthews_correlation: 0.4645\n",
      "Epoch 33/240\n",
      "61552/61552 [==============================] - 0s 7us/step - loss: 0.5169 - matthews_correlation: 0.4728\n",
      "Epoch 34/240\n",
      "61552/61552 [==============================] - 0s 8us/step - loss: 0.5224 - matthews_correlation: 0.4734\n",
      "Epoch 35/240\n",
      "61552/61552 [==============================] - 1s 9us/step - loss: 0.5443 - matthews_correlation: 0.4643\n",
      "Epoch 36/240\n",
      "61552/61552 [==============================] - 1s 8us/step - loss: 0.5240 - matthews_correlation: 0.4800\n",
      "Epoch 37/240\n",
      "61552/61552 [==============================] - 0s 8us/step - loss: 0.5060 - matthews_correlation: 0.4997\n",
      "Epoch 38/240\n",
      "61552/61552 [==============================] - 0s 7us/step - loss: 0.5042 - matthews_correlation: 0.5057\n",
      "Epoch 39/240\n",
      "61552/61552 [==============================] - 0s 7us/step - loss: 0.5040 - matthews_correlation: 0.5143\n",
      "Epoch 40/240\n",
      "61552/61552 [==============================] - 0s 7us/step - loss: 0.4977 - matthews_correlation: 0.5172\n",
      "Epoch 41/240\n",
      "61552/61552 [==============================] - 1s 9us/step - loss: 0.4943 - matthews_correlation: 0.5225\n",
      "Epoch 42/240\n",
      "61552/61552 [==============================] - 0s 8us/step - loss: 0.4967 - matthews_correlation: 0.5211\n",
      "Epoch 43/240\n",
      "61552/61552 [==============================] - 0s 8us/step - loss: 0.5268 - matthews_correlation: 0.4463\n",
      "Epoch 44/240\n",
      "61552/61552 [==============================] - 1s 9us/step - loss: 0.5312 - matthews_correlation: 0.4210\n",
      "Epoch 45/240\n",
      "61552/61552 [==============================] - 0s 7us/step - loss: 0.5747 - matthews_correlation: 0.2914\n",
      "Epoch 46/240\n",
      "61552/61552 [==============================] - 0s 7us/step - loss: 0.5474 - matthews_correlation: 0.4292\n",
      "Epoch 47/240\n",
      "61552/61552 [==============================] - 0s 7us/step - loss: 0.5305 - matthews_correlation: 0.4358\n",
      "Epoch 48/240\n",
      "61552/61552 [==============================] - 0s 7us/step - loss: 0.5265 - matthews_correlation: 0.4492\n",
      "Epoch 49/240\n",
      "61552/61552 [==============================] - 0s 7us/step - loss: 0.5200 - matthews_correlation: 0.4682\n",
      "Epoch 50/240\n",
      "61552/61552 [==============================] - 1s 8us/step - loss: 0.5163 - matthews_correlation: 0.4737\n",
      "Epoch 51/240\n",
      "61552/61552 [==============================] - 0s 7us/step - loss: 0.5057 - matthews_correlation: 0.4909\n",
      "Epoch 52/240\n",
      "61552/61552 [==============================] - 0s 7us/step - loss: 0.5068 - matthews_correlation: 0.4803\n",
      "Epoch 53/240\n",
      "61552/61552 [==============================] - 0s 7us/step - loss: 0.5094 - matthews_correlation: 0.4833\n",
      "Epoch 54/240\n",
      "61552/61552 [==============================] - 0s 7us/step - loss: 0.5075 - matthews_correlation: 0.4844: 0s - loss: 0.5173 - matthews_corre\n",
      "Epoch 55/240\n",
      "61552/61552 [==============================] - 0s 7us/step - loss: 0.5038 - matthews_correlation: 0.4875\n",
      "Epoch 56/240\n",
      "61552/61552 [==============================] - 0s 7us/step - loss: 0.4996 - matthews_correlation: 0.4954\n",
      "Epoch 57/240\n",
      "61552/61552 [==============================] - 0s 8us/step - loss: 0.4907 - matthews_correlation: 0.5135\n",
      "Epoch 58/240\n",
      "61552/61552 [==============================] - 1s 8us/step - loss: 0.4872 - matthews_correlation: 0.5176\n",
      "Epoch 59/240\n",
      "61552/61552 [==============================] - 0s 7us/step - loss: 0.4916 - matthews_correlation: 0.5125\n",
      "Epoch 60/240\n",
      "61552/61552 [==============================] - 0s 8us/step - loss: 0.4883 - matthews_correlation: 0.5225\n",
      "Epoch 61/240\n",
      "61552/61552 [==============================] - 0s 7us/step - loss: 0.5252 - matthews_correlation: 0.4384\n",
      "Epoch 62/240\n",
      "61552/61552 [==============================] - 0s 8us/step - loss: 0.5220 - matthews_correlation: 0.4630\n",
      "Epoch 63/240\n",
      "61552/61552 [==============================] - 0s 7us/step - loss: 0.5161 - matthews_correlation: 0.4910\n",
      "Epoch 64/240\n",
      "61552/61552 [==============================] - 0s 7us/step - loss: 0.5159 - matthews_correlation: 0.4848\n",
      "Epoch 65/240\n",
      "61552/61552 [==============================] - 0s 7us/step - loss: 0.5215 - matthews_correlation: 0.4796\n",
      "Epoch 66/240\n",
      "61552/61552 [==============================] - 0s 7us/step - loss: 0.5169 - matthews_correlation: 0.4908\n",
      "Epoch 67/240\n",
      "61552/61552 [==============================] - 1s 10us/step - loss: 0.5080 - matthews_correlation: 0.5064\n",
      "Epoch 68/240\n",
      "61552/61552 [==============================] - 0s 8us/step - loss: 0.5175 - matthews_correlation: 0.4873\n",
      "Epoch 69/240\n"
     ]
    },
    {
     "name": "stdout",
     "output_type": "stream",
     "text": [
      "61552/61552 [==============================] - 0s 7us/step - loss: 0.5094 - matthews_correlation: 0.5024\n",
      "Epoch 70/240\n",
      "61552/61552 [==============================] - 1s 8us/step - loss: 0.5136 - matthews_correlation: 0.4973\n",
      "Epoch 71/240\n",
      "61552/61552 [==============================] - 0s 7us/step - loss: 0.5102 - matthews_correlation: 0.4984\n",
      "Epoch 72/240\n",
      "61552/61552 [==============================] - 0s 7us/step - loss: 0.5174 - matthews_correlation: 0.4849\n",
      "Epoch 73/240\n",
      "61552/61552 [==============================] - 0s 7us/step - loss: 0.5206 - matthews_correlation: 0.4751\n",
      "Epoch 74/240\n",
      "61552/61552 [==============================] - 0s 7us/step - loss: 0.5118 - matthews_correlation: 0.4957\n",
      "Epoch 75/240\n",
      "61552/61552 [==============================] - 0s 7us/step - loss: 0.5154 - matthews_correlation: 0.4891\n",
      "Epoch 76/240\n",
      "61552/61552 [==============================] - 0s 6us/step - loss: 0.5176 - matthews_correlation: 0.4823\n",
      "Epoch 77/240\n",
      "61552/61552 [==============================] - 0s 7us/step - loss: 0.5293 - matthews_correlation: 0.4570\n",
      "Epoch 78/240\n",
      "61552/61552 [==============================] - 0s 7us/step - loss: 0.5162 - matthews_correlation: 0.4840\n",
      "Epoch 79/240\n",
      "61552/61552 [==============================] - 0s 7us/step - loss: 0.5112 - matthews_correlation: 0.4992\n",
      "Epoch 80/240\n",
      "61552/61552 [==============================] - 0s 7us/step - loss: 0.5071 - matthews_correlation: 0.5090\n",
      "Epoch 81/240\n",
      "61552/61552 [==============================] - 0s 7us/step - loss: 0.5149 - matthews_correlation: 0.4870\n",
      "Epoch 82/240\n",
      "61552/61552 [==============================] - 0s 7us/step - loss: 0.5129 - matthews_correlation: 0.4914\n",
      "Epoch 83/240\n",
      "61552/61552 [==============================] - 0s 7us/step - loss: 0.5083 - matthews_correlation: 0.5017\n",
      "Epoch 84/240\n",
      "61552/61552 [==============================] - 0s 7us/step - loss: 0.5095 - matthews_correlation: 0.4984\n",
      "Epoch 85/240\n",
      "61552/61552 [==============================] - 0s 6us/step - loss: 0.5085 - matthews_correlation: 0.5029\n",
      "Epoch 86/240\n",
      "61552/61552 [==============================] - 0s 6us/step - loss: 0.5113 - matthews_correlation: 0.4998\n",
      "Epoch 87/240\n",
      "61552/61552 [==============================] - 0s 7us/step - loss: 0.5161 - matthews_correlation: 0.4820\n",
      "Epoch 88/240\n",
      "61552/61552 [==============================] - 0s 7us/step - loss: 0.5108 - matthews_correlation: 0.4927\n",
      "Epoch 89/240\n",
      "61552/61552 [==============================] - 0s 6us/step - loss: 0.5107 - matthews_correlation: 0.4910\n",
      "Epoch 90/240\n",
      "61552/61552 [==============================] - 0s 7us/step - loss: 0.5090 - matthews_correlation: 0.5025\n",
      "Epoch 91/240\n",
      "61552/61552 [==============================] - 0s 7us/step - loss: 0.5150 - matthews_correlation: 0.4872\n",
      "Epoch 92/240\n",
      "61552/61552 [==============================] - 0s 6us/step - loss: 0.5046 - matthews_correlation: 0.5089\n",
      "Epoch 93/240\n",
      "61552/61552 [==============================] - 0s 6us/step - loss: 0.5082 - matthews_correlation: 0.5040\n",
      "Epoch 94/240\n",
      "61552/61552 [==============================] - 0s 7us/step - loss: 0.5131 - matthews_correlation: 0.4893\n",
      "Epoch 95/240\n",
      "61552/61552 [==============================] - 0s 7us/step - loss: 0.5034 - matthews_correlation: 0.5116\n",
      "Epoch 96/240\n",
      "61552/61552 [==============================] - 0s 7us/step - loss: 0.5795 - matthews_correlation: 0.4826\n",
      "Epoch 97/240\n",
      "61552/61552 [==============================] - 0s 6us/step - loss: 0.5916 - matthews_correlation: 0.2168\n",
      "Epoch 98/240\n",
      "61552/61552 [==============================] - 0s 7us/step - loss: 0.5721 - matthews_correlation: 0.4028\n",
      "Epoch 99/240\n",
      "61552/61552 [==============================] - 0s 7us/step - loss: 0.5669 - matthews_correlation: 0.4240\n",
      "Epoch 100/240\n",
      "61552/61552 [==============================] - 0s 6us/step - loss: 0.5618 - matthews_correlation: 0.4267\n",
      "Epoch 101/240\n",
      "61552/61552 [==============================] - 0s 7us/step - loss: 0.5569 - matthews_correlation: 0.4304\n",
      "Epoch 102/240\n",
      "61552/61552 [==============================] - 0s 6us/step - loss: 0.5591 - matthews_correlation: 0.4380\n",
      "Epoch 103/240\n",
      "61552/61552 [==============================] - 0s 6us/step - loss: 0.5445 - matthews_correlation: 0.4603\n",
      "Epoch 104/240\n",
      "61552/61552 [==============================] - 0s 7us/step - loss: 0.5396 - matthews_correlation: 0.4712\n",
      "Epoch 105/240\n",
      "61552/61552 [==============================] - 0s 7us/step - loss: 0.5366 - matthews_correlation: 0.4779\n",
      "Epoch 106/240\n",
      "61552/61552 [==============================] - 0s 6us/step - loss: 0.5314 - matthews_correlation: 0.4909\n",
      "Epoch 107/240\n",
      "61552/61552 [==============================] - 0s 6us/step - loss: 0.5363 - matthews_correlation: 0.4787\n",
      "Epoch 108/240\n",
      "61552/61552 [==============================] - 0s 6us/step - loss: 0.5261 - matthews_correlation: 0.5002\n",
      "Epoch 109/240\n",
      "61552/61552 [==============================] - 0s 6us/step - loss: 0.5260 - matthews_correlation: 0.4980\n",
      "Epoch 110/240\n",
      "61552/61552 [==============================] - 0s 6us/step - loss: 0.5227 - matthews_correlation: 0.5001\n",
      "Epoch 111/240\n",
      "61552/61552 [==============================] - 0s 7us/step - loss: 0.5175 - matthews_correlation: 0.5145\n",
      "Epoch 112/240\n",
      "61552/61552 [==============================] - 0s 6us/step - loss: 0.5237 - matthews_correlation: 0.5044\n",
      "Epoch 113/240\n",
      "61552/61552 [==============================] - 0s 6us/step - loss: 0.5122 - matthews_correlation: 0.5210\n",
      "Epoch 114/240\n",
      "61552/61552 [==============================] - 0s 6us/step - loss: 0.5262 - matthews_correlation: 0.4986\n",
      "Epoch 115/240\n",
      "61552/61552 [==============================] - 0s 6us/step - loss: 0.5104 - matthews_correlation: 0.5229\n",
      "Epoch 116/240\n",
      "61552/61552 [==============================] - 0s 7us/step - loss: 0.5107 - matthews_correlation: 0.5184\n",
      "Epoch 117/240\n",
      "61552/61552 [==============================] - 0s 7us/step - loss: 0.5161 - matthews_correlation: 0.5101\n",
      "Epoch 118/240\n",
      "61552/61552 [==============================] - 0s 6us/step - loss: 0.5125 - matthews_correlation: 0.5125\n",
      "Epoch 119/240\n",
      "61552/61552 [==============================] - 0s 7us/step - loss: 0.5125 - matthews_correlation: 0.5162\n",
      "Epoch 120/240\n",
      "61552/61552 [==============================] - 0s 6us/step - loss: 0.5168 - matthews_correlation: 0.5107\n",
      "Epoch 121/240\n",
      "61552/61552 [==============================] - 0s 7us/step - loss: 0.5134 - matthews_correlation: 0.5161\n",
      "Epoch 122/240\n",
      "61552/61552 [==============================] - 0s 6us/step - loss: 0.5041 - matthews_correlation: 0.5334\n",
      "Epoch 123/240\n",
      "61552/61552 [==============================] - 0s 6us/step - loss: 0.5042 - matthews_correlation: 0.5286\n",
      "Epoch 124/240\n",
      "61552/61552 [==============================] - 0s 6us/step - loss: 0.5011 - matthews_correlation: 0.5342\n",
      "Epoch 125/240\n",
      "61552/61552 [==============================] - 0s 7us/step - loss: 0.5151 - matthews_correlation: 0.5168\n",
      "Epoch 126/240\n",
      "61552/61552 [==============================] - 0s 6us/step - loss: 0.5004 - matthews_correlation: 0.5368\n",
      "Epoch 127/240\n",
      "61552/61552 [==============================] - 0s 6us/step - loss: 0.5055 - matthews_correlation: 0.5301\n",
      "Epoch 128/240\n",
      "61552/61552 [==============================] - 0s 6us/step - loss: 0.5020 - matthews_correlation: 0.5330\n",
      "Epoch 129/240\n",
      "61552/61552 [==============================] - 0s 6us/step - loss: 0.5074 - matthews_correlation: 0.5283\n",
      "Epoch 130/240\n",
      "61552/61552 [==============================] - 0s 6us/step - loss: 0.5010 - matthews_correlation: 0.5370\n",
      "Epoch 131/240\n",
      "61552/61552 [==============================] - 0s 7us/step - loss: 0.5007 - matthews_correlation: 0.5372\n",
      "Epoch 132/240\n",
      "61552/61552 [==============================] - 0s 6us/step - loss: 0.5058 - matthews_correlation: 0.5290\n",
      "Epoch 133/240\n",
      "61552/61552 [==============================] - 0s 6us/step - loss: 0.5040 - matthews_correlation: 0.5326\n",
      "Epoch 134/240\n",
      "61552/61552 [==============================] - 0s 6us/step - loss: 0.4987 - matthews_correlation: 0.5414\n",
      "Epoch 135/240\n",
      "61552/61552 [==============================] - 0s 6us/step - loss: 0.4940 - matthews_correlation: 0.5485\n",
      "Epoch 136/240\n",
      "61552/61552 [==============================] - 0s 6us/step - loss: 0.4974 - matthews_correlation: 0.5421\n",
      "Epoch 137/240\n",
      "61552/61552 [==============================] - 0s 7us/step - loss: 0.4934 - matthews_correlation: 0.5464\n",
      "Epoch 138/240\n"
     ]
    },
    {
     "name": "stdout",
     "output_type": "stream",
     "text": [
      "61552/61552 [==============================] - 0s 7us/step - loss: 0.4976 - matthews_correlation: 0.5419\n",
      "Epoch 139/240\n",
      "61552/61552 [==============================] - 0s 6us/step - loss: 0.5077 - matthews_correlation: 0.5283\n",
      "Epoch 140/240\n",
      "61552/61552 [==============================] - 0s 6us/step - loss: 0.5021 - matthews_correlation: 0.5339\n",
      "Epoch 141/240\n",
      "61552/61552 [==============================] - 0s 7us/step - loss: 0.4971 - matthews_correlation: 0.5428\n",
      "Epoch 142/240\n",
      "61552/61552 [==============================] - 0s 6us/step - loss: 0.5015 - matthews_correlation: 0.5359\n",
      "Epoch 143/240\n",
      "61552/61552 [==============================] - 0s 7us/step - loss: 0.4980 - matthews_correlation: 0.5433\n",
      "Epoch 144/240\n",
      "61552/61552 [==============================] - 0s 7us/step - loss: 0.4992 - matthews_correlation: 0.5397\n",
      "Epoch 145/240\n",
      "61552/61552 [==============================] - 1s 8us/step - loss: 0.4994 - matthews_correlation: 0.5377\n",
      "Epoch 146/240\n",
      "61552/61552 [==============================] - 0s 6us/step - loss: 0.4941 - matthews_correlation: 0.5448\n",
      "Epoch 147/240\n",
      "61552/61552 [==============================] - 0s 6us/step - loss: 0.4934 - matthews_correlation: 0.5479\n",
      "Epoch 148/240\n",
      "61552/61552 [==============================] - 0s 7us/step - loss: 0.4978 - matthews_correlation: 0.5433\n",
      "Epoch 149/240\n",
      "61552/61552 [==============================] - 0s 7us/step - loss: 0.4927 - matthews_correlation: 0.5512\n",
      "Epoch 150/240\n",
      "61552/61552 [==============================] - 0s 6us/step - loss: 0.4896 - matthews_correlation: 0.5526\n",
      "Epoch 151/240\n",
      "61552/61552 [==============================] - 0s 6us/step - loss: 0.4899 - matthews_correlation: 0.5524\n",
      "Epoch 152/240\n",
      "61552/61552 [==============================] - 0s 6us/step - loss: 0.4962 - matthews_correlation: 0.5456\n",
      "Epoch 153/240\n",
      "61552/61552 [==============================] - 0s 6us/step - loss: 0.4911 - matthews_correlation: 0.5543\n",
      "Epoch 154/240\n",
      "61552/61552 [==============================] - 0s 6us/step - loss: 0.4985 - matthews_correlation: 0.5423\n",
      "Epoch 155/240\n",
      "61552/61552 [==============================] - 0s 6us/step - loss: 0.5020 - matthews_correlation: 0.5343\n",
      "Epoch 156/240\n",
      "61552/61552 [==============================] - 0s 7us/step - loss: 0.4883 - matthews_correlation: 0.5571\n",
      "Epoch 157/240\n",
      "61552/61552 [==============================] - 0s 6us/step - loss: 0.4910 - matthews_correlation: 0.5503\n",
      "Epoch 158/240\n",
      "61552/61552 [==============================] - 0s 7us/step - loss: 0.4950 - matthews_correlation: 0.5466\n",
      "Epoch 159/240\n",
      "61552/61552 [==============================] - 0s 6us/step - loss: 0.4903 - matthews_correlation: 0.5530\n",
      "Epoch 160/240\n",
      "61552/61552 [==============================] - 0s 7us/step - loss: 0.4896 - matthews_correlation: 0.5529\n",
      "Epoch 161/240\n",
      "61552/61552 [==============================] - 0s 6us/step - loss: 0.4898 - matthews_correlation: 0.5574\n",
      "Epoch 162/240\n",
      "61552/61552 [==============================] - 0s 7us/step - loss: 0.4902 - matthews_correlation: 0.5530\n",
      "Epoch 163/240\n",
      "61552/61552 [==============================] - 0s 6us/step - loss: 0.4966 - matthews_correlation: 0.5456\n",
      "Epoch 164/240\n",
      "61552/61552 [==============================] - 0s 6us/step - loss: 0.4909 - matthews_correlation: 0.5509\n",
      "Epoch 165/240\n",
      "61552/61552 [==============================] - 0s 6us/step - loss: 0.4955 - matthews_correlation: 0.5450\n",
      "Epoch 166/240\n",
      "61552/61552 [==============================] - 0s 6us/step - loss: 0.4889 - matthews_correlation: 0.5566\n",
      "Epoch 167/240\n",
      "61552/61552 [==============================] - 0s 6us/step - loss: 0.4926 - matthews_correlation: 0.5521\n",
      "Epoch 168/240\n",
      "61552/61552 [==============================] - 0s 6us/step - loss: 0.4839 - matthews_correlation: 0.5634\n",
      "Epoch 169/240\n",
      "61552/61552 [==============================] - 0s 7us/step - loss: 0.4959 - matthews_correlation: 0.5478\n",
      "Epoch 170/240\n",
      "61552/61552 [==============================] - 0s 6us/step - loss: 0.4964 - matthews_correlation: 0.5437\n",
      "Epoch 171/240\n",
      "61552/61552 [==============================] - 0s 6us/step - loss: 0.4946 - matthews_correlation: 0.5476\n",
      "Epoch 172/240\n",
      "61552/61552 [==============================] - 0s 6us/step - loss: 0.4885 - matthews_correlation: 0.5562\n",
      "Epoch 173/240\n",
      "61552/61552 [==============================] - 0s 6us/step - loss: 0.4860 - matthews_correlation: 0.5625\n",
      "Epoch 174/240\n",
      "61552/61552 [==============================] - 0s 6us/step - loss: 0.4896 - matthews_correlation: 0.5526\n",
      "Epoch 175/240\n",
      "61552/61552 [==============================] - 0s 7us/step - loss: 0.4911 - matthews_correlation: 0.5517\n",
      "Epoch 176/240\n",
      "61552/61552 [==============================] - 0s 6us/step - loss: 0.4859 - matthews_correlation: 0.5578\n",
      "Epoch 177/240\n",
      "61552/61552 [==============================] - 0s 6us/step - loss: 0.4890 - matthews_correlation: 0.5567\n",
      "Epoch 178/240\n",
      "61552/61552 [==============================] - 0s 6us/step - loss: 0.4828 - matthews_correlation: 0.5644\n",
      "Epoch 179/240\n",
      "61552/61552 [==============================] - 0s 6us/step - loss: 0.4935 - matthews_correlation: 0.5481\n",
      "Epoch 180/240\n",
      "61552/61552 [==============================] - 0s 6us/step - loss: 0.4937 - matthews_correlation: 0.5504\n",
      "Epoch 181/240\n",
      "61552/61552 [==============================] - 0s 7us/step - loss: 0.4873 - matthews_correlation: 0.5578\n",
      "Epoch 182/240\n",
      "61552/61552 [==============================] - 0s 6us/step - loss: 0.4892 - matthews_correlation: 0.5534\n",
      "Epoch 183/240\n",
      "61552/61552 [==============================] - 0s 6us/step - loss: 0.4937 - matthews_correlation: 0.5483\n",
      "Epoch 184/240\n",
      "61552/61552 [==============================] - 0s 6us/step - loss: 0.4867 - matthews_correlation: 0.5599\n",
      "Epoch 185/240\n",
      "61552/61552 [==============================] - 0s 6us/step - loss: 0.4900 - matthews_correlation: 0.5557\n",
      "Epoch 186/240\n",
      "61552/61552 [==============================] - 0s 6us/step - loss: 0.4878 - matthews_correlation: 0.5560\n",
      "Epoch 187/240\n",
      "61552/61552 [==============================] - 0s 7us/step - loss: 0.4912 - matthews_correlation: 0.5539\n",
      "Epoch 188/240\n",
      "61552/61552 [==============================] - 0s 6us/step - loss: 0.4849 - matthews_correlation: 0.5614\n",
      "Epoch 189/240\n",
      "61552/61552 [==============================] - 0s 6us/step - loss: 0.4862 - matthews_correlation: 0.5590\n",
      "Epoch 190/240\n",
      "61552/61552 [==============================] - 0s 6us/step - loss: 0.4808 - matthews_correlation: 0.5662\n",
      "Epoch 191/240\n",
      "61552/61552 [==============================] - 0s 6us/step - loss: 0.4841 - matthews_correlation: 0.5588\n",
      "Epoch 192/240\n",
      "61552/61552 [==============================] - 0s 6us/step - loss: 0.4865 - matthews_correlation: 0.5609\n",
      "Epoch 193/240\n",
      "61552/61552 [==============================] - 0s 6us/step - loss: 0.4964 - matthews_correlation: 0.5479\n",
      "Epoch 194/240\n",
      "61552/61552 [==============================] - 0s 6us/step - loss: 0.4881 - matthews_correlation: 0.5556\n",
      "Epoch 195/240\n",
      "61552/61552 [==============================] - 0s 6us/step - loss: 0.4804 - matthews_correlation: 0.5672\n",
      "Epoch 196/240\n",
      "61552/61552 [==============================] - 0s 6us/step - loss: 0.4866 - matthews_correlation: 0.5585\n",
      "Epoch 197/240\n",
      "61552/61552 [==============================] - 0s 6us/step - loss: 0.4836 - matthews_correlation: 0.5630\n",
      "Epoch 198/240\n",
      "61552/61552 [==============================] - 0s 6us/step - loss: 0.4819 - matthews_correlation: 0.5681\n",
      "Epoch 199/240\n",
      "61552/61552 [==============================] - 0s 7us/step - loss: 0.4866 - matthews_correlation: 0.5582\n",
      "Epoch 200/240\n",
      "61552/61552 [==============================] - 0s 7us/step - loss: 0.4822 - matthews_correlation: 0.5668\n",
      "Epoch 201/240\n",
      "61552/61552 [==============================] - 0s 7us/step - loss: 0.4880 - matthews_correlation: 0.5545\n",
      "Epoch 202/240\n",
      "61552/61552 [==============================] - 0s 7us/step - loss: 0.4948 - matthews_correlation: 0.5464\n",
      "Epoch 203/240\n",
      "61552/61552 [==============================] - 1s 8us/step - loss: 0.4850 - matthews_correlation: 0.5606\n",
      "Epoch 204/240\n",
      "61552/61552 [==============================] - 1s 9us/step - loss: 0.4918 - matthews_correlation: 0.5531\n",
      "Epoch 205/240\n",
      "61552/61552 [==============================] - 0s 8us/step - loss: 0.4822 - matthews_correlation: 0.5660\n",
      "Epoch 206/240\n",
      "61552/61552 [==============================] - 0s 8us/step - loss: 0.4814 - matthews_correlation: 0.5677\n"
     ]
    },
    {
     "name": "stdout",
     "output_type": "stream",
     "text": [
      "Epoch 207/240\n",
      "61552/61552 [==============================] - 0s 7us/step - loss: 0.4891 - matthews_correlation: 0.5564\n",
      "Epoch 208/240\n",
      "61552/61552 [==============================] - 0s 7us/step - loss: 0.4827 - matthews_correlation: 0.5626\n",
      "Epoch 209/240\n",
      "61552/61552 [==============================] - 0s 7us/step - loss: 0.4761 - matthews_correlation: 0.5713\n",
      "Epoch 210/240\n",
      "61552/61552 [==============================] - 0s 8us/step - loss: 0.4859 - matthews_correlation: 0.5624\n",
      "Epoch 211/240\n",
      "61552/61552 [==============================] - 0s 6us/step - loss: 0.4855 - matthews_correlation: 0.5631\n",
      "Epoch 212/240\n",
      "61552/61552 [==============================] - 0s 7us/step - loss: 0.4801 - matthews_correlation: 0.5692\n",
      "Epoch 213/240\n",
      "61552/61552 [==============================] - 0s 8us/step - loss: 0.4907 - matthews_correlation: 0.5564\n",
      "Epoch 214/240\n",
      "61552/61552 [==============================] - 0s 8us/step - loss: 0.4800 - matthews_correlation: 0.5705\n",
      "Epoch 215/240\n",
      "61552/61552 [==============================] - 0s 8us/step - loss: 0.4794 - matthews_correlation: 0.5666\n",
      "Epoch 216/240\n",
      "61552/61552 [==============================] - 0s 7us/step - loss: 0.4816 - matthews_correlation: 0.5659\n",
      "Epoch 217/240\n",
      "61552/61552 [==============================] - 1s 8us/step - loss: 0.4803 - matthews_correlation: 0.5690\n",
      "Epoch 218/240\n",
      "61552/61552 [==============================] - 1s 8us/step - loss: 0.4829 - matthews_correlation: 0.5659\n",
      "Epoch 219/240\n",
      "61552/61552 [==============================] - 0s 7us/step - loss: 0.4776 - matthews_correlation: 0.5721\n",
      "Epoch 220/240\n",
      "61552/61552 [==============================] - 0s 7us/step - loss: 0.4778 - matthews_correlation: 0.5733\n",
      "Epoch 221/240\n",
      "61552/61552 [==============================] - 0s 7us/step - loss: 0.4789 - matthews_correlation: 0.5716\n",
      "Epoch 222/240\n",
      "61552/61552 [==============================] - 0s 7us/step - loss: 0.4776 - matthews_correlation: 0.5713\n",
      "Epoch 223/240\n",
      "61552/61552 [==============================] - 0s 7us/step - loss: 0.4774 - matthews_correlation: 0.5725\n",
      "Epoch 224/240\n",
      "61552/61552 [==============================] - 0s 7us/step - loss: 0.4831 - matthews_correlation: 0.5659\n",
      "Epoch 225/240\n",
      "61552/61552 [==============================] - 0s 7us/step - loss: 0.4777 - matthews_correlation: 0.5695\n",
      "Epoch 226/240\n",
      "61552/61552 [==============================] - 0s 7us/step - loss: 0.4849 - matthews_correlation: 0.5638\n",
      "Epoch 227/240\n",
      "61552/61552 [==============================] - 0s 7us/step - loss: 0.4757 - matthews_correlation: 0.5744\n",
      "Epoch 228/240\n",
      "61552/61552 [==============================] - 0s 7us/step - loss: 0.4727 - matthews_correlation: 0.5783\n",
      "Epoch 229/240\n",
      "61552/61552 [==============================] - 0s 7us/step - loss: 0.4742 - matthews_correlation: 0.5781\n",
      "Epoch 230/240\n",
      "61552/61552 [==============================] - 0s 7us/step - loss: 0.4781 - matthews_correlation: 0.5719\n",
      "Epoch 231/240\n",
      "61552/61552 [==============================] - 0s 7us/step - loss: 0.4778 - matthews_correlation: 0.5738\n",
      "Epoch 232/240\n",
      "61552/61552 [==============================] - 0s 7us/step - loss: 0.4914 - matthews_correlation: 0.5509\n",
      "Epoch 233/240\n",
      "61552/61552 [==============================] - 0s 7us/step - loss: 0.4792 - matthews_correlation: 0.5700\n",
      "Epoch 234/240\n",
      "61552/61552 [==============================] - 0s 7us/step - loss: 0.4791 - matthews_correlation: 0.5707\n",
      "Epoch 235/240\n",
      "61552/61552 [==============================] - 0s 7us/step - loss: 0.4737 - matthews_correlation: 0.5738\n",
      "Epoch 236/240\n",
      "61552/61552 [==============================] - 0s 7us/step - loss: 0.4833 - matthews_correlation: 0.5650\n",
      "Epoch 237/240\n",
      "61552/61552 [==============================] - 0s 7us/step - loss: 0.4749 - matthews_correlation: 0.5725\n",
      "Epoch 238/240\n",
      "61552/61552 [==============================] - 0s 7us/step - loss: 0.4763 - matthews_correlation: 0.5745\n",
      "Epoch 239/240\n",
      "61552/61552 [==============================] - 0s 7us/step - loss: 0.4833 - matthews_correlation: 0.5640\n",
      "Epoch 240/240\n",
      "61552/61552 [==============================] - 0s 7us/step - loss: 0.4766 - matthews_correlation: 0.5723\n"
     ]
    },
    {
     "data": {
      "text/plain": [
       "<keras.callbacks.History at 0x7f73aa2a1e48>"
      ]
     },
     "execution_count": 14,
     "metadata": {},
     "output_type": "execute_result"
    }
   ],
   "source": [
    "print(np.unique(train_Y))\n",
    "\n",
    "tbCallback = K.callbacks.TensorBoard(log_dir=\"./logs\", histogram_freq=0, batch_size=1024, write_graph=True, write_grads=False, write_images=False, embeddings_freq=0, embeddings_layer_names=None, embeddings_metadata=None)\n",
    "\n",
    "final_model.fit(train_X,train_Y,epochs = 240,batch_size=1024,callbacks=[tbCallback])"
   ]
  },
  {
   "cell_type": "code",
   "execution_count": 15,
   "metadata": {},
   "outputs": [
    {
     "name": "stdout",
     "output_type": "stream",
     "text": [
      "matthews_correlation\n"
     ]
    }
   ],
   "source": [
    "print(final_model.metrics_names[1])"
   ]
  },
  {
   "cell_type": "code",
   "execution_count": 16,
   "metadata": {},
   "outputs": [
    {
     "name": "stdout",
     "output_type": "stream",
     "text": [
      "_________________________________________________________________\n",
      "Layer (type)                 Output Shape              Param #   \n",
      "=================================================================\n",
      "input_1 (InputLayer)         (None, 70)                0         \n",
      "_________________________________________________________________\n",
      "dropout_1 (Dropout)          (None, 70)                0         \n",
      "_________________________________________________________________\n",
      "dense_1 (Dense)              (None, 25)                1775      \n",
      "_________________________________________________________________\n",
      "dropout_2 (Dropout)          (None, 25)                0         \n",
      "_________________________________________________________________\n",
      "dense_2 (Dense)              (None, 10)                260       \n",
      "_________________________________________________________________\n",
      "dropout_3 (Dropout)          (None, 10)                0         \n",
      "_________________________________________________________________\n",
      "dense_3 (Dense)              (None, 1)                 11        \n",
      "=================================================================\n",
      "Total params: 2,046\n",
      "Trainable params: 2,046\n",
      "Non-trainable params: 0\n",
      "_________________________________________________________________\n"
     ]
    }
   ],
   "source": [
    "final_model.summary()"
   ]
  },
  {
   "cell_type": "code",
   "execution_count": 17,
   "metadata": {
    "collapsed": true
   },
   "outputs": [],
   "source": [
    "# print(val_X[val_X.columns[0:4]])\n",
    "# #print(val_X.shape)\n",
    "# perid = test_X[test_X.columns[0:1]];\n",
    "# val_X = val_X[val_X.columns[1:71]]\n",
    "# print(val_X.shape,val_Y.shape)\n",
    "# test_X = test_X[test_X.columns[1:71]];"
   ]
  },
  {
   "cell_type": "code",
   "execution_count": 18,
   "metadata": {},
   "outputs": [
    {
     "name": "stdout",
     "output_type": "stream",
     "text": [
      "(6858, 71) (5829,)\n",
      "(6858, 70) (5829,)\n"
     ]
    }
   ],
   "source": [
    "perid = test_X[test_X.columns[0:1]];\n",
    "temp_val_X = val_X[val_X.columns[1:]]\n",
    "print(test_X.shape,val_Y.shape)\n",
    "temp_test_X = test_X[test_X.columns[1:]]\n",
    "print(temp_test_X.shape,val_Y.shape)"
   ]
  },
  {
   "cell_type": "code",
   "execution_count": 19,
   "metadata": {},
   "outputs": [
    {
     "name": "stdout",
     "output_type": "stream",
     "text": [
      "5829/5829 [==============================] - 0s 40us/step\n"
     ]
    },
    {
     "data": {
      "text/plain": [
       "[0.35284055678180609, 0.40396976066016071]"
      ]
     },
     "execution_count": 19,
     "metadata": {},
     "output_type": "execute_result"
    }
   ],
   "source": [
    "final_model.evaluate(x=temp_val_X,y=val_Y)"
   ]
  },
  {
   "cell_type": "code",
   "execution_count": 20,
   "metadata": {},
   "outputs": [
    {
     "name": "stdout",
     "output_type": "stream",
     "text": [
      "(6858, 71) (6858, 1)\n"
     ]
    },
    {
     "name": "stderr",
     "output_type": "stream",
     "text": [
      "/home/dungeon_master/.conda/envs/downloader/lib/python3.6/site-packages/ipykernel_launcher.py:2: FutureWarning: reshape is deprecated and will raise in a subsequent release. Please use .values.reshape(...) instead\n",
      "  \n"
     ]
    }
   ],
   "source": [
    "\n",
    "test_Y = test_Y.reshape(-1,1)\n",
    "print(test_X.shape,test_Y.shape)\n"
   ]
  },
  {
   "cell_type": "code",
   "execution_count": 21,
   "metadata": {},
   "outputs": [
    {
     "name": "stdout",
     "output_type": "stream",
     "text": [
      "6858/6858 [==============================] - 0s 40us/step\n"
     ]
    },
    {
     "data": {
      "text/plain": [
       "[0.37336773604163276, 0.40095623751429227]"
      ]
     },
     "execution_count": 21,
     "metadata": {},
     "output_type": "execute_result"
    }
   ],
   "source": [
    "final_model.evaluate(x=temp_test_X,y=test_Y)"
   ]
  },
  {
   "cell_type": "code",
   "execution_count": 22,
   "metadata": {},
   "outputs": [
    {
     "data": {
      "text/plain": [
       "(71,)"
      ]
     },
     "execution_count": 22,
     "metadata": {},
     "output_type": "execute_result"
    }
   ],
   "source": [
    "test_X.iloc[0].shape"
   ]
  },
  {
   "cell_type": "code",
   "execution_count": 23,
   "metadata": {},
   "outputs": [
    {
     "data": {
      "text/plain": [
       "array([[  6.83998764e-01],\n",
       "       [  6.38839370e-03],\n",
       "       [  1.27115458e-01],\n",
       "       ..., \n",
       "       [  3.80376279e-01],\n",
       "       [  3.95530988e-05],\n",
       "       [  1.46444468e-03]], dtype=float32)"
      ]
     },
     "execution_count": 23,
     "metadata": {},
     "output_type": "execute_result"
    }
   ],
   "source": [
    "final_model.predict(x=temp_test_X)"
   ]
  },
  {
   "cell_type": "code",
   "execution_count": 24,
   "metadata": {
    "collapsed": true
   },
   "outputs": [],
   "source": [
    "df = pd.read_csv(\"datasets/criminal_test.csv\")"
   ]
  },
  {
   "cell_type": "code",
   "execution_count": 25,
   "metadata": {},
   "outputs": [
    {
     "name": "stdout",
     "output_type": "stream",
     "text": [
      "(11430, 70)\n"
     ]
    }
   ],
   "source": [
    "perid = df[df.columns[:1]]\n",
    "final_test_X = df[df.columns[1:]] \n",
    "print(final_test_X.shape)"
   ]
  },
  {
   "cell_type": "code",
   "execution_count": 26,
   "metadata": {
    "collapsed": true
   },
   "outputs": [],
   "source": [
    "output  = final_model.predict(x=final_test_X)\n",
    "output = [1 if x>0.8 else 0 for x in output]\n",
    "output = pd.DataFrame(output,columns=[\"Criminal\"])\n",
    "answer = pd.concat([perid,output],axis=1)\n",
    "answer.to_csv(\"out.csv\",index=False)"
   ]
  },
  {
   "cell_type": "code",
   "execution_count": null,
   "metadata": {
    "collapsed": true
   },
   "outputs": [],
   "source": []
  }
 ],
 "metadata": {
  "kernelspec": {
   "display_name": "Python 3",
   "language": "python",
   "name": "python3"
  },
  "language_info": {
   "codemirror_mode": {
    "name": "ipython",
    "version": 3
   },
   "file_extension": ".py",
   "mimetype": "text/x-python",
   "name": "python",
   "nbconvert_exporter": "python",
   "pygments_lexer": "ipython3",
   "version": "3.6.3"
  }
 },
 "nbformat": 4,
 "nbformat_minor": 2
}
